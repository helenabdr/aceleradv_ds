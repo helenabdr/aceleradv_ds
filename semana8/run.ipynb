{
 "cells": [
  {
   "cell_type": "code",
   "execution_count": 1,
   "metadata": {},
   "outputs": [],
   "source": [
    "from data import DataSource\n",
    "from preprocessing import Preprocessing\n",
    "from model_training import ModelTraining\n",
    "from model_inference import ModelInference"
   ]
  },
  {
   "cell_type": "code",
   "execution_count": 2,
   "metadata": {},
   "outputs": [
    {
     "name": "stdout",
     "output_type": "stream",
     "text": "Loading Data\nPreprocessing Data\nCreating Dataframe for Data Manipulation\n                                        column  missing_perc    dtype\nNU_INSCRICAO                      NU_INSCRICAO      0.000000   object\nCO_UF_RESIDENCIA              CO_UF_RESIDENCIA      0.000000    int64\nSG_UF_RESIDENCIA              SG_UF_RESIDENCIA      0.000000   object\nNU_IDADE                              NU_IDADE      0.000000    int64\nTP_SEXO                                TP_SEXO      0.000000   object\nTP_COR_RACA                        TP_COR_RACA      0.000000    int64\nTP_NACIONALIDADE              TP_NACIONALIDADE      0.000000    int64\nTP_ST_CONCLUSAO                TP_ST_CONCLUSAO      0.000000    int64\nTP_ANO_CONCLUIU                TP_ANO_CONCLUIU      0.000000    int64\nTP_ESCOLA                            TP_ESCOLA      0.000000    int64\nTP_ENSINO                            TP_ENSINO     67.657343  float64\nIN_TREINEIRO                      IN_TREINEIRO      0.000000    int64\nTP_DEPENDENCIA_ADM_ESC  TP_DEPENDENCIA_ADM_ESC     67.657343  float64\nIN_BAIXA_VISAO                  IN_BAIXA_VISAO      0.000000    int64\nIN_CEGUEIRA                        IN_CEGUEIRA      0.000000    int64\nIN_SURDEZ                            IN_SURDEZ      0.000000    int64\nIN_DISLEXIA                        IN_DISLEXIA      0.000000    int64\nIN_DISCALCULIA                  IN_DISCALCULIA      0.000000    int64\nIN_SABATISTA                      IN_SABATISTA      0.000000    int64\nIN_GESTANTE                        IN_GESTANTE      0.000000    int64\nIN_IDOSO                              IN_IDOSO      0.000000    int64\nTP_PRESENCA_CN                  TP_PRESENCA_CN      0.000000    int64\nTP_PRESENCA_CH                  TP_PRESENCA_CH      0.000000    int64\nTP_PRESENCA_LC                  TP_PRESENCA_LC      0.000000    int64\nCO_PROVA_CN                        CO_PROVA_CN      0.000000   object\nCO_PROVA_CH                        CO_PROVA_CH      0.000000   object\nCO_PROVA_LC                        CO_PROVA_LC      0.000000   object\nCO_PROVA_MT                        CO_PROVA_MT      0.000000   object\nNU_NOTA_CN                          NU_NOTA_CN     24.781469  float64\nNU_NOTA_CH                          NU_NOTA_CH     24.781469  float64\nNU_NOTA_LC                          NU_NOTA_LC     26.201923  float64\nTP_LINGUA                            TP_LINGUA      0.000000    int64\nTP_STATUS_REDACAO            TP_STATUS_REDACAO     26.201923  float64\nNU_NOTA_COMP1                    NU_NOTA_COMP1     26.201923  float64\nNU_NOTA_COMP2                    NU_NOTA_COMP2     26.201923  float64\nNU_NOTA_COMP3                    NU_NOTA_COMP3     26.201923  float64\nNU_NOTA_COMP4                    NU_NOTA_COMP4     26.201923  float64\nNU_NOTA_COMP5                    NU_NOTA_COMP5     26.201923  float64\nNU_NOTA_REDACAO                NU_NOTA_REDACAO     26.201923  float64\nQ001                                      Q001      0.000000   object\nQ002                                      Q002      0.000000   object\nQ006                                      Q006      0.000000   object\nQ024                                      Q024      0.000000   object\nQ025                                      Q025      0.000000   object\nQ026                                      Q026      0.000000   object\nQ027                                      Q027     54.370629   object\nQ047                                      Q047      0.000000   object\nPredicting\nLoading data\nTraining preprocessing\nCreating Dataframe for Data Manipulation\n                                        column  missing_perc    dtype\nCO_UF_RESIDENCIA              CO_UF_RESIDENCIA      0.000000    int64\nSG_UF_RESIDENCIA              SG_UF_RESIDENCIA      0.000000   object\nNU_IDADE                              NU_IDADE      0.000000    int64\nTP_SEXO                                TP_SEXO      0.000000   object\nTP_COR_RACA                        TP_COR_RACA      0.000000    int64\nTP_NACIONALIDADE              TP_NACIONALIDADE      0.000000    int64\nTP_ST_CONCLUSAO                TP_ST_CONCLUSAO      0.000000    int64\nTP_ANO_CONCLUIU                TP_ANO_CONCLUIU      0.000000    int64\nTP_ESCOLA                            TP_ESCOLA      0.000000    int64\nTP_ENSINO                            TP_ENSINO     68.812819  float64\nIN_TREINEIRO                      IN_TREINEIRO      0.000000    int64\nTP_DEPENDENCIA_ADM_ESC  TP_DEPENDENCIA_ADM_ESC     68.812819  float64\nTP_PRESENCA_CN                  TP_PRESENCA_CN      0.000000    int64\nTP_PRESENCA_CH                  TP_PRESENCA_CH      0.000000    int64\nTP_PRESENCA_LC                  TP_PRESENCA_LC      0.000000    int64\nCO_PROVA_CN                        CO_PROVA_CN      0.000000   object\nCO_PROVA_CH                        CO_PROVA_CH      0.000000   object\nCO_PROVA_LC                        CO_PROVA_LC      0.000000   object\nCO_PROVA_MT                        CO_PROVA_MT      0.000000   object\nNU_NOTA_MT                          NU_NOTA_MT     26.198106  float64\nNU_NOTA_CN                          NU_NOTA_CN     24.683176  float64\nNU_NOTA_CH                          NU_NOTA_CH     24.683176  float64\nNU_NOTA_LC                          NU_NOTA_LC     26.198106  float64\nTP_LINGUA                            TP_LINGUA      0.000000    int64\nTP_STATUS_REDACAO            TP_STATUS_REDACAO     26.198106  float64\nNU_NOTA_COMP1                    NU_NOTA_COMP1     26.198106  float64\nNU_NOTA_COMP2                    NU_NOTA_COMP2     26.198106  float64\nNU_NOTA_COMP3                    NU_NOTA_COMP3     26.198106  float64\nNU_NOTA_COMP4                    NU_NOTA_COMP4     26.198106  float64\nNU_NOTA_COMP5                    NU_NOTA_COMP5     26.198106  float64\nNU_NOTA_REDACAO                NU_NOTA_REDACAO     26.198106  float64\nQ001                                      Q001      0.000000   object\nQ002                                      Q002      0.000000   object\nQ006                                      Q006      0.000000   object\nQ024                                      Q024      0.000000   object\nQ025                                      Q025      0.000000   object\nQ026                                      Q026      0.000000   object\nQ027                                      Q027     53.699927   object\nQ047                                      Q047      0.000000   object\nSelecting the features ...\nSelected features: ['CO_UF_RESIDENCIA', 'NU_NOTA_CN', 'NU_NOTA_CH', 'NU_NOTA_LC', 'NU_NOTA_REDACAO']\nSaving Files\n"
    },
    {
     "data": {
      "text/plain": "array([405.441, 447.155, 611.716, ..., 687.517, 440.835,   0.   ])"
     },
     "execution_count": 2,
     "metadata": {},
     "output_type": "execute_result"
    }
   ],
   "source": [
    "ModelInference().predict()"
   ]
  },
  {
   "cell_type": "code",
   "execution_count": null,
   "metadata": {},
   "outputs": [],
   "source": []
  }
 ],
 "metadata": {
  "kernelspec": {
   "display_name": "Python 3.8.3 64-bit ('aceleradev_ds': conda)",
   "language": "python",
   "name": "python38364bitaceleradevdscondafeeb582a8a2949e1b323983e5dbf781b"
  },
  "language_info": {
   "codemirror_mode": {
    "name": "ipython",
    "version": 3
   },
   "file_extension": ".py",
   "mimetype": "text/x-python",
   "name": "python",
   "nbconvert_exporter": "python",
   "pygments_lexer": "ipython3",
   "version": "3.8.3-final"
  }
 },
 "nbformat": 4,
 "nbformat_minor": 4
}